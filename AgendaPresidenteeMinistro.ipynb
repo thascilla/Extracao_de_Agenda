{
  "nbformat": 4,
  "nbformat_minor": 0,
  "metadata": {
    "colab": {
      "provenance": []
    },
    "kernelspec": {
      "name": "python3",
      "display_name": "Python 3"
    },
    "language_info": {
      "name": "python"
    }
  },
  "cells": [
    {
      "cell_type": "markdown",
      "source": [
        "**Estágio na área de Dados**\n",
        "\n",
        "1. Quais bibliotecas você usaria para web scraping em Python?\n",
        "\n",
        "Para web scraping em Python usaria Selenium  fornece uma série de métodos e funções para controlar o navegador web e interagir com os elementos da página. E a beautifulsoup é usada para extração de dados de arquivos HTML e XML tem uma navegação rápida e simples pela árvore do DOM, buscar e modificar uma árvore de análise.\n"
      ],
      "metadata": {
        "id": "6V8wDuho31RT"
      }
    },
    {
      "cell_type": "markdown",
      "source": [
        "**Pergunta 2**\n",
        "\n",
        "2. Extraia os últimos três dias de agenda do presidente Lula e do Ministro da Fazenda e apresente uma tabela com essas informações."
      ],
      "metadata": {
        "id": "oQdRlQp56uwS"
      }
    },
    {
      "cell_type": "code",
      "execution_count": 1,
      "metadata": {
        "id": "0Z43R4OonNq2"
      },
      "outputs": [],
      "source": [
        "import pandas as pd"
      ]
    },
    {
      "cell_type": "code",
      "source": [
        "df1 = pd.read_csv('/content/Agenda-Presidente-Lula.csv')\n",
        "df2= pd.read_csv('/content/Agenda-Ministro.csv')"
      ],
      "metadata": {
        "id": "E-V7Z3UGnVLK"
      },
      "execution_count": 8,
      "outputs": []
    },
    {
      "cell_type": "code",
      "source": [
        "print(\"Primeiro DataFrame Presidente Lula:\")\n",
        "print(df1.head(5))\n",
        "\n",
        "print(\"\\nSegundo DataFrame Agenda Ministro:\")\n",
        "print(df2.head(5))"
      ],
      "metadata": {
        "colab": {
          "base_uri": "https://localhost:8080/"
        },
        "id": "crjM90MBopKh",
        "outputId": "cf7eebbf-3046-4017-c2ed-aaeecd67ea9b"
      },
      "execution_count": 14,
      "outputs": [
        {
          "output_type": "stream",
          "name": "stdout",
          "text": [
            "Primeiro DataFrame Presidente Lula:\n",
            "        Date   Time                                              Event\n",
            "0 2024-05-21  10:00  Abertura da XXV Marcha a Brasília em Defesa do...\n",
            "1 2024-05-21  14:40  Secretário Especial para Assuntos Jurídicos da...\n",
            "2 2024-05-21  15:00  Sanção do Projeto de Lei nº 2288/2015, que alt...\n",
            "3 2024-05-22  09:30  Apresentação de cartas credenciais do Embaixad...\n",
            "4 2024-05-22  09:45  Apresentação de cartas credenciais da Embaixad...\n",
            "\n",
            "Segundo DataFrame Agenda Ministro:\n",
            "        Date   Time                                           Event\n",
            "0 2024-05-21  10:00                           Reunião - (cancelada)\n",
            "1 2024-05-21  14:40               Reunião - Ministra Luciana Santos\n",
            "2 2024-05-21  15:00  Reunião - Presidente Luiz Inácio Lula da Silva\n",
            "3 2024-05-22  09:30               Reunião - Senador Rodrigo Pacheco\n",
            "4 2024-05-22  09:45          Reunião - Deputado Federal Arthur Lira\n"
          ]
        }
      ]
    },
    {
      "cell_type": "code",
      "source": [
        "def extrair_ultimos_tres_dias(agenda_df):\n",
        "#ordena a agenda pela data\n",
        "  agenda_df = agenda_df.sort_values(by='Date', ascending=False)\n",
        "#puxa os tres ultimos dias\n",
        "  ultimos_tres_dias = agenda_df['Date'].unique()[:3]\n",
        "#filtra a agenda para incluir os 3 ultimos dias\n",
        "  agenda_filtrada = agenda_df[agenda_df['Date'].isin(ultimos_tres_dias)]\n",
        "  return agenda_filtrada.sort_values(by='Date', ascending=True)\n",
        "\n",
        "#aqui traz os tres ultimos dias da agenda de cada um\n",
        "agenda_presidente_ultimos_tres_dias = extrair_ultimos_tres_dias(df1)\n",
        "agenda_ministro_ultimos_tres_dias = extrair_ultimos_tres_dias(df2)\n",
        "\n",
        "\n",
        "#exibe as agendas\n",
        "print(\"\\nAgenda do Presidente Lula (Últimos três dias):\")\n",
        "print(agenda_presidente_ultimos_tres_dias)\n",
        "\n",
        "print(\"\\nAgenda do Ministro da Fazenda (Últimos três dias):\")\n",
        "print(agenda_ministro_ultimos_tres_dias)"
      ],
      "metadata": {
        "colab": {
          "base_uri": "https://localhost:8080/"
        },
        "id": "XN7oRt7UuhsY",
        "outputId": "a71d0e8f-1019-4864-9af4-427f300a6dce"
      },
      "execution_count": 16,
      "outputs": [
        {
          "output_type": "stream",
          "name": "stdout",
          "text": [
            "\n",
            "Agenda do Presidente Lula (Últimos três dias):\n",
            "         Date   Time                                              Event\n",
            "0  2024-05-21  10:00  Abertura da XXV Marcha a Brasília em Defesa do...\n",
            "1  2024-05-21  14:40  Secretário Especial para Assuntos Jurídicos da...\n",
            "2  2024-05-21  15:00  Sanção do Projeto de Lei nº 2288/2015, que alt...\n",
            "3  2024-05-22  09:30  Apresentação de cartas credenciais do Embaixad...\n",
            "4  2024-05-22  09:45  Apresentação de cartas credenciais da Embaixad...\n",
            "5  2024-05-22  10:00  Apresentação de cartas credenciais da Embaixad...\n",
            "6  2024-05-22  10:15  Apresentação de cartas credenciais da Embaixad...\n",
            "7  2024-05-22  10:30  Apresentação de cartas credenciais do Embaixad...\n",
            "8  2024-05-22  10:45  Apresentação de cartas credenciais do Embaixad...\n",
            "9  2024-05-23  10:00  Juízes da Corte Interamericana de Direitos Hum...\n",
            "10 2024-05-23  11:00  Cerimônia oficial de chegada do Presidente da ...\n",
            "11 2024-05-23  11:30  Reunião bilateral com o Presidente do Benim, P...\n",
            "12 2024-05-23  12:30                    Cerimônia de Assinatura de Atos\n",
            "13 2024-05-23  13:00                              Declaração à imprensa\n",
            "14 2024-05-23  16:30                  Ministro do Turismo, Celso Sabino\n",
            "\n",
            "Agenda do Ministro da Fazenda (Últimos três dias):\n",
            "         Date   Time                                            Event\n",
            "0  2024-05-21  10:00                            Reunião - (cancelada)\n",
            "1  2024-05-21  14:40                Reunião - Ministra Luciana Santos\n",
            "2  2024-05-21  15:00   Reunião - Presidente Luiz Inácio Lula da Silva\n",
            "3  2024-05-22  09:30                Reunião - Senador Rodrigo Pacheco\n",
            "4  2024-05-22  09:45           Reunião - Deputado Federal Arthur Lira\n",
            "5  2024-05-22  10:00                       Reunião - Marcos Tolentino\n",
            "6  2024-05-22  10:15                       Reunião - Alessandro Molon\n",
            "7  2024-05-22  10:30                        Reunião - Guilherme Mussi\n",
            "8  2024-05-22  10:45                    Reunião - Roberto Campos Neto\n",
            "9  2024-05-23  10:00                     Reunião - João Pedro Stédile\n",
            "10 2024-05-23  11:00                           Reunião - José Velloso\n",
            "11 2024-05-23  11:30                         Reunião - Paulo de Tarso\n",
            "12 2024-05-23  12:30  Reunião - Participa com Ministra Luciana Santos\n",
            "13 2024-05-23  13:00                Reunião - Ministro Humberto Costa\n",
            "14 2024-05-23  16:30        Reunião - Senador Fernando Bezerra Coelho\n"
          ]
        }
      ]
    },
    {
      "cell_type": "markdown",
      "source": [],
      "metadata": {
        "id": "wWR1T9Yv3z5V"
      }
    }
  ]
}